{
  "nbformat": 4,
  "nbformat_minor": 0,
  "metadata": {
    "colab": {
      "provenance": [],
      "authorship_tag": "ABX9TyPPbUujTak6CH9i/YFHaYLH",
      "include_colab_link": true
    },
    "kernelspec": {
      "name": "python3",
      "display_name": "Python 3"
    },
    "language_info": {
      "name": "python"
    },
    "accelerator": "GPU"
  },
  "cells": [
    {
      "cell_type": "markdown",
      "metadata": {
        "id": "view-in-github",
        "colab_type": "text"
      },
      "source": [
        "<a href=\"https://colab.research.google.com/github/Kaleab1999/NER/blob/main/NER_1st.ipynb\" target=\"_parent\"><img src=\"https://colab.research.google.com/assets/colab-badge.svg\" alt=\"Open In Colab\"/></a>"
      ]
    },
    {
      "cell_type": "code",
      "execution_count": 1,
      "metadata": {
        "colab": {
          "base_uri": "https://localhost:8080/"
        },
        "id": "d1t8zY8EYPH-",
        "outputId": "69ffa73e-de9d-4faf-f3ca-a6aebe1a515d"
      },
      "outputs": [
        {
          "output_type": "stream",
          "name": "stdout",
          "text": [
            "Looking in indexes: https://pypi.org/simple, https://us-python.pkg.dev/colab-wheels/public/simple/\n",
            "Requirement already satisfied: spacy in /usr/local/lib/python3.7/dist-packages (3.4.2)\n",
            "Requirement already satisfied: spacy-legacy<3.1.0,>=3.0.10 in /usr/local/lib/python3.7/dist-packages (from spacy) (3.0.10)\n",
            "Requirement already satisfied: catalogue<2.1.0,>=2.0.6 in /usr/local/lib/python3.7/dist-packages (from spacy) (2.0.8)\n",
            "Requirement already satisfied: pathy>=0.3.5 in /usr/local/lib/python3.7/dist-packages (from spacy) (0.6.2)\n",
            "Requirement already satisfied: pydantic!=1.8,!=1.8.1,<1.11.0,>=1.7.4 in /usr/local/lib/python3.7/dist-packages (from spacy) (1.10.2)\n",
            "Requirement already satisfied: packaging>=20.0 in /usr/local/lib/python3.7/dist-packages (from spacy) (21.3)\n",
            "Requirement already satisfied: spacy-loggers<2.0.0,>=1.0.0 in /usr/local/lib/python3.7/dist-packages (from spacy) (1.0.3)\n",
            "Requirement already satisfied: cymem<2.1.0,>=2.0.2 in /usr/local/lib/python3.7/dist-packages (from spacy) (2.0.7)\n",
            "Requirement already satisfied: jinja2 in /usr/local/lib/python3.7/dist-packages (from spacy) (2.11.3)\n",
            "Requirement already satisfied: thinc<8.2.0,>=8.1.0 in /usr/local/lib/python3.7/dist-packages (from spacy) (8.1.5)\n",
            "Requirement already satisfied: setuptools in /usr/local/lib/python3.7/dist-packages (from spacy) (57.4.0)\n",
            "Requirement already satisfied: preshed<3.1.0,>=3.0.2 in /usr/local/lib/python3.7/dist-packages (from spacy) (3.0.8)\n",
            "Requirement already satisfied: numpy>=1.15.0 in /usr/local/lib/python3.7/dist-packages (from spacy) (1.21.6)\n",
            "Requirement already satisfied: tqdm<5.0.0,>=4.38.0 in /usr/local/lib/python3.7/dist-packages (from spacy) (4.64.1)\n",
            "Requirement already satisfied: langcodes<4.0.0,>=3.2.0 in /usr/local/lib/python3.7/dist-packages (from spacy) (3.3.0)\n",
            "Requirement already satisfied: srsly<3.0.0,>=2.4.3 in /usr/local/lib/python3.7/dist-packages (from spacy) (2.4.5)\n",
            "Requirement already satisfied: typing-extensions<4.2.0,>=3.7.4 in /usr/local/lib/python3.7/dist-packages (from spacy) (4.1.1)\n",
            "Requirement already satisfied: murmurhash<1.1.0,>=0.28.0 in /usr/local/lib/python3.7/dist-packages (from spacy) (1.0.9)\n",
            "Requirement already satisfied: wasabi<1.1.0,>=0.9.1 in /usr/local/lib/python3.7/dist-packages (from spacy) (0.10.1)\n",
            "Requirement already satisfied: requests<3.0.0,>=2.13.0 in /usr/local/lib/python3.7/dist-packages (from spacy) (2.23.0)\n",
            "Requirement already satisfied: typer<0.5.0,>=0.3.0 in /usr/local/lib/python3.7/dist-packages (from spacy) (0.4.2)\n",
            "Requirement already satisfied: zipp>=0.5 in /usr/local/lib/python3.7/dist-packages (from catalogue<2.1.0,>=2.0.6->spacy) (3.9.0)\n",
            "Requirement already satisfied: pyparsing!=3.0.5,>=2.0.2 in /usr/local/lib/python3.7/dist-packages (from packaging>=20.0->spacy) (3.0.9)\n",
            "Requirement already satisfied: smart-open<6.0.0,>=5.2.1 in /usr/local/lib/python3.7/dist-packages (from pathy>=0.3.5->spacy) (5.2.1)\n",
            "Requirement already satisfied: chardet<4,>=3.0.2 in /usr/local/lib/python3.7/dist-packages (from requests<3.0.0,>=2.13.0->spacy) (3.0.4)\n",
            "Requirement already satisfied: idna<3,>=2.5 in /usr/local/lib/python3.7/dist-packages (from requests<3.0.0,>=2.13.0->spacy) (2.10)\n",
            "Requirement already satisfied: urllib3!=1.25.0,!=1.25.1,<1.26,>=1.21.1 in /usr/local/lib/python3.7/dist-packages (from requests<3.0.0,>=2.13.0->spacy) (1.24.3)\n",
            "Requirement already satisfied: certifi>=2017.4.17 in /usr/local/lib/python3.7/dist-packages (from requests<3.0.0,>=2.13.0->spacy) (2022.9.24)\n",
            "Requirement already satisfied: blis<0.8.0,>=0.7.8 in /usr/local/lib/python3.7/dist-packages (from thinc<8.2.0,>=8.1.0->spacy) (0.7.9)\n",
            "Requirement already satisfied: confection<1.0.0,>=0.0.1 in /usr/local/lib/python3.7/dist-packages (from thinc<8.2.0,>=8.1.0->spacy) (0.0.3)\n",
            "Requirement already satisfied: click<9.0.0,>=7.1.1 in /usr/local/lib/python3.7/dist-packages (from typer<0.5.0,>=0.3.0->spacy) (7.1.2)\n",
            "Requirement already satisfied: MarkupSafe>=0.23 in /usr/local/lib/python3.7/dist-packages (from jinja2->spacy) (2.0.1)\n"
          ]
        }
      ],
      "source": [
        "!pip install -U spacy"
      ]
    },
    {
      "cell_type": "code",
      "source": [
        "import spacy\n",
        "from spacy.tokens import DocBin\n",
        "from tqdm import tqdm #to view the progress\n",
        "\n",
        "nlp = spacy.load(\"en_core_web_sm\") # load a new spacy model\n",
        "db = DocBin() # create a DocBin object"
      ],
      "metadata": {
        "id": "zT9TLHi9YQDC"
      },
      "execution_count": 2,
      "outputs": []
    },
    {
      "cell_type": "code",
      "source": [
        "from google.colab import drive\n",
        "drive.mount('/content/drive')"
      ],
      "metadata": {
        "colab": {
          "base_uri": "https://localhost:8080/"
        },
        "id": "7T44gbUIZgb9",
        "outputId": "d94942a4-49d0-4a40-de0a-1ff694d2efc7"
      },
      "execution_count": 3,
      "outputs": [
        {
          "output_type": "stream",
          "name": "stdout",
          "text": [
            "Drive already mounted at /content/drive; to attempt to forcibly remount, call drive.mount(\"/content/drive\", force_remount=True).\n"
          ]
        }
      ]
    },
    {
      "cell_type": "code",
      "source": [
        "import json\n",
        "f = open('/content/drive/MyDrive/dataset/annotations.json')\n",
        "TRAIN_DATA = json.load(f)"
      ],
      "metadata": {
        "id": "RP4hzYCvaK3d"
      },
      "execution_count": 4,
      "outputs": []
    },
    {
      "cell_type": "code",
      "source": [
        "TRAIN_DATA"
      ],
      "metadata": {
        "colab": {
          "base_uri": "https://localhost:8080/"
        },
        "id": "KdBM-YjtaqJu",
        "outputId": "8b1cff66-06b0-4878-83b9-262cb482d710"
      },
      "execution_count": 5,
      "outputs": [
        {
          "output_type": "execute_result",
          "data": {
            "text/plain": [
              "{'classes': ['NAME', 'PHONE NUMBER', 'LOCATION', 'UNIVERSITY'],\n",
              " 'annotations': [['My name is Kaleab. I am from Ethiopia. Every Saturday @8 pm you can contact me at +251930964236. 930964236\\r',\n",
              "   {'entities': [[11, 18, 'NAME'],\n",
              "     [29, 38, 'LOCATION'],\n",
              "     [82, 96, 'PHONE NUMBER'],\n",
              "     [97, 106, 'PHONE NUMBER']]}],\n",
              "  [\"First of all, thank you so much for giving me this opportunity to introduce myself. My name is Sultan Haider. I'm 21 years old. I'm from Hanumangarh JN. Which is located in Rajasthan. I completed graduation in 2021 and passed 12th on the RBSE board. I have played games from the age of 4 years and achieved one state-level certificate. I'm fresher, I'm a multitasker, a good communicator, and a positive thinker. 1-541-754-3010I am Shalini.\\r\",\n",
              "   {'entities': [[95, 109, 'NAME'],\n",
              "     [137, 152, 'LOCATION'],\n",
              "     [173, 183, 'LOCATION'],\n",
              "     [413, 428, 'PHONE NUMBER'],\n",
              "     [432, 439, 'NAME']]}],\n",
              "  [\"I am from Visakhapatnam. I have done my schooling at Z.P.H school in Srikakulam. I have done my intermediate from Sri Chaitanya junior college at Vishakapatnam. At present, I am pursuing a degree (UG) in  Aditya Women's degree college at Gopalapatnam. My hobby is drawing. +1-541-754-3010\\r\",\n",
              "   {'entities': [[10, 24, 'NAME'],\n",
              "     [53, 65, 'UNIVERSITY'],\n",
              "     [69, 80, 'LOCATION'],\n",
              "     [114, 142, 'UNIVERSITY'],\n",
              "     [146, 160, 'LOCATION'],\n",
              "     [205, 234, 'UNIVERSITY'],\n",
              "     [238, 251, 'LOCATION'],\n",
              "     [273, 288, 'PHONE NUMBER']]}],\n",
              "  [\"My name is Reema Yadav. I am living in Gurgaon (E). I have completed my post-graduation in M.Com from the University of Mumbai. I have basic knowledge of computers like, Ms excel. Ms word. Powerpoint and TALLY ERP9 and also G.S.T (GOOD AND SERVICE TAX).MY Achievement I got a scholarship prize from Ulla's trust. My Extracurricular activity is participating in a poetry writing Competition with 1st Rank. I also participated Running Competition with 1st Rank. Thank you for allowing me to introduce myself, \\r\",\n",
              "   {'entities': [[11, 23, 'NAME'],\n",
              "     [39, 50, 'LOCATION'],\n",
              "     [106, 127, 'UNIVERSITY']]}],\n",
              "  [\"I am Shane Mathews coming from Kerala. As you can see from my resume I am doing my MBA at Sri Krishna College of Engineering and Technology and I have done my Bachelor's in Kerala. I feel that I am a competent candidate for the role of Marketing in a reputed company because right from a very young age, I had a passion for marketing and that led me to establish my own marketing company at the age of 13, I was also lucky to be featured in the Indian Express twice for them. (541) 754-3010\\r\",\n",
              "   {'entities': [[5, 18, 'NAME'],\n",
              "     [31, 38, 'LOCATION'],\n",
              "     [90, 139, 'UNIVERSITY'],\n",
              "     [173, 180, 'LOCATION'],\n",
              "     [476, 490, 'PHONE NUMBER']]}],\n",
              "  ['My name is Ramesh Kumar. I am from Kolkata. I have done my schooling at Rose Public school, Kolkata with a 7.8 CGPA in 2016. I completed my intermediate from Delhi Model Public School, Kolkata with 60% in 2018. I currently pursuing my BTech degree in computer science engineering from Delhi University. 001-541-754-3010\\r',\n",
              "   {'entities': [[11, 24, 'NAME'],\n",
              "     [35, 43, 'LOCATION'],\n",
              "     [72, 90, 'UNIVERSITY'],\n",
              "     [92, 99, 'LOCATION'],\n",
              "     [158, 183, 'UNIVERSITY'],\n",
              "     [285, 302, 'UNIVERSITY'],\n",
              "     [303, 319, 'PHONE NUMBER']]}],\n",
              "  [\"My name is Swaralipa Pal. I'm from Serampore, Hooghly. About my studies, I have completed my schooling at Serampore Ramesh Chandra girls high school. And now, I'm pursuing B.Sc in hotel & hospitality management from the International School of hospitality management.  My hobbies are drowning & meditation.754-3010\\r\",\n",
              "   {'entities': [[11, 25, 'NAME'],\n",
              "     [35, 44, 'LOCATION'],\n",
              "     [106, 149, 'UNIVERSITY'],\n",
              "     [216, 267, 'UNIVERSITY'],\n",
              "     [295, 314, 'PHONE NUMBER']]}],\n",
              "  [\"My name is P.Shirisha. I'm from Warangal. I have completed my graduation in BCOM from Osmania university. There are 5 members in my family. My father is a farmer and My mother is a homemaker. 191 541 754 3010\",\n",
              "   {'entities': [[11, 22, 'NAME'],\n",
              "     [32, 41, 'LOCATION'],\n",
              "     [86, 105, 'UNIVERSITY'],\n",
              "     [192, 208, 'PHONE NUMBER']]}]]}"
            ]
          },
          "metadata": {},
          "execution_count": 5
        }
      ]
    },
    {
      "cell_type": "code",
      "source": [
        "for text, annot in tqdm(TRAIN_DATA['annotations']): \n",
        "    doc = nlp.make_doc(text) \n",
        "    ents = []\n",
        "    for start, end, label in annot[\"entities\"]:\n",
        "        span = doc.char_span(start, end, label=label, alignment_mode=\"contract\")\n",
        "        if span is None:\n",
        "            print(\"Skipping entity\")\n",
        "        else:\n",
        "            ents.append(span)\n",
        "    doc.ents = ents \n",
        "    db.add(doc)\n",
        "\n",
        "db.to_disk(\"./training_data.spacy\") # save the docbin object"
      ],
      "metadata": {
        "colab": {
          "base_uri": "https://localhost:8080/"
        },
        "id": "UBQwiGXlaf42",
        "outputId": "968842fb-b785-4fec-a731-76ff07b7a210"
      },
      "execution_count": 6,
      "outputs": [
        {
          "output_type": "stream",
          "name": "stderr",
          "text": [
            "100%|██████████| 8/8 [00:00<00:00, 453.16it/s]\n"
          ]
        }
      ]
    },
    {
      "cell_type": "code",
      "source": [
        "! python -m spacy init config config.cfg --lang en --pipeline ner --optimize accuracy"
      ],
      "metadata": {
        "colab": {
          "base_uri": "https://localhost:8080/"
        },
        "id": "E_17LASobYCU",
        "outputId": "4fe8e9f1-8fdd-4f2d-f20b-a695ccb386d0"
      },
      "execution_count": 7,
      "outputs": [
        {
          "output_type": "stream",
          "name": "stdout",
          "text": [
            "\u001b[38;5;3m⚠ To generate a more effective transformer-based config (GPU-only),\n",
            "install the spacy-transformers package and re-run this command. The config\n",
            "generated now does not use transformers.\u001b[0m\n",
            "\u001b[38;5;4mℹ Generated config template specific for your use case\u001b[0m\n",
            "- Language: en\n",
            "- Pipeline: ner\n",
            "- Optimize for: accuracy\n",
            "- Hardware: CPU\n",
            "- Transformer: None\n",
            "\u001b[38;5;2m✔ Auto-filled config with all values\u001b[0m\n",
            "\u001b[38;5;2m✔ Saved config\u001b[0m\n",
            "config.cfg\n",
            "You can now add your data and train your pipeline:\n",
            "python -m spacy train config.cfg --paths.train ./train.spacy --paths.dev ./dev.spacy\n"
          ]
        }
      ]
    },
    {
      "cell_type": "code",
      "source": [
        "! python -m spacy train config.cfg --output ./ --paths.train ./training_data.spacy --paths.dev ./training_data.spacy"
      ],
      "metadata": {
        "colab": {
          "base_uri": "https://localhost:8080/"
        },
        "id": "y-Qj-P8mcJE2",
        "outputId": "1fe3680d-33e0-4cd0-89d4-a773428cdde9"
      },
      "execution_count": 8,
      "outputs": [
        {
          "output_type": "stream",
          "name": "stdout",
          "text": [
            "\u001b[38;5;4mℹ Saving to output directory: .\u001b[0m\n",
            "\u001b[38;5;4mℹ Using CPU\u001b[0m\n",
            "\u001b[38;5;4mℹ To switch to GPU 0, use the option: --gpu-id 0\u001b[0m\n",
            "\u001b[1m\n",
            "=========================== Initializing pipeline ===========================\u001b[0m\n",
            "[2022-10-26 04:29:28,784] [INFO] Set up nlp object from config\n",
            "INFO:spacy:Set up nlp object from config\n",
            "[2022-10-26 04:29:28,795] [INFO] Pipeline: ['tok2vec', 'ner']\n",
            "INFO:spacy:Pipeline: ['tok2vec', 'ner']\n",
            "[2022-10-26 04:29:28,799] [INFO] Created vocabulary\n",
            "INFO:spacy:Created vocabulary\n",
            "Traceback (most recent call last):\n",
            "  File \"/usr/local/lib/python3.7/dist-packages/spacy/language.py\", line 1302, in initialize\n",
            "    self, data=I[\"vocab_data\"], lookups=I[\"lookups\"], vectors=I[\"vectors\"]\n",
            "  File \"/usr/local/lib/python3.7/dist-packages/spacy/training/initialize.py\", line 131, in init_vocab\n",
            "    load_vectors_into_model(nlp, vectors)\n",
            "  File \"/usr/local/lib/python3.7/dist-packages/spacy/training/initialize.py\", line 152, in load_vectors_into_model\n",
            "    vectors_nlp = load_model(name, vocab=nlp.vocab, exclude=exclude)\n",
            "  File \"/usr/local/lib/python3.7/dist-packages/spacy/util.py\", line 439, in load_model\n",
            "    raise IOError(Errors.E050.format(name=name))\n",
            "OSError: [E050] Can't find model 'en_core_web_lg'. It doesn't seem to be a Python package or a valid path to a data directory.\n",
            "\n",
            "During handling of the above exception, another exception occurred:\n",
            "\n",
            "Traceback (most recent call last):\n",
            "  File \"/usr/lib/python3.7/runpy.py\", line 193, in _run_module_as_main\n",
            "    \"__main__\", mod_spec)\n",
            "  File \"/usr/lib/python3.7/runpy.py\", line 85, in _run_code\n",
            "    exec(code, run_globals)\n",
            "  File \"/usr/local/lib/python3.7/dist-packages/spacy/__main__.py\", line 4, in <module>\n",
            "    setup_cli()\n",
            "  File \"/usr/local/lib/python3.7/dist-packages/spacy/cli/_util.py\", line 71, in setup_cli\n",
            "    command(prog_name=COMMAND)\n",
            "  File \"/usr/local/lib/python3.7/dist-packages/click/core.py\", line 829, in __call__\n",
            "    return self.main(*args, **kwargs)\n",
            "  File \"/usr/local/lib/python3.7/dist-packages/click/core.py\", line 782, in main\n",
            "    rv = self.invoke(ctx)\n",
            "  File \"/usr/local/lib/python3.7/dist-packages/click/core.py\", line 1259, in invoke\n",
            "    return _process_result(sub_ctx.command.invoke(sub_ctx))\n",
            "  File \"/usr/local/lib/python3.7/dist-packages/click/core.py\", line 1066, in invoke\n",
            "    return ctx.invoke(self.callback, **ctx.params)\n",
            "  File \"/usr/local/lib/python3.7/dist-packages/click/core.py\", line 610, in invoke\n",
            "    return callback(*args, **kwargs)\n",
            "  File \"/usr/local/lib/python3.7/dist-packages/typer/main.py\", line 532, in wrapper\n",
            "    return callback(**use_params)  # type: ignore\n",
            "  File \"/usr/local/lib/python3.7/dist-packages/spacy/cli/train.py\", line 45, in train_cli\n",
            "    train(config_path, output_path, use_gpu=use_gpu, overrides=overrides)\n",
            "  File \"/usr/local/lib/python3.7/dist-packages/spacy/cli/train.py\", line 72, in train\n",
            "    nlp = init_nlp(config, use_gpu=use_gpu)\n",
            "  File \"/usr/local/lib/python3.7/dist-packages/spacy/training/initialize.py\", line 84, in init_nlp\n",
            "    nlp.initialize(lambda: train_corpus(nlp), sgd=optimizer)\n",
            "  File \"/usr/local/lib/python3.7/dist-packages/spacy/language.py\", line 1305, in initialize\n",
            "    raise IOError(Errors.E884.format(vectors=I[\"vectors\"]))\n",
            "OSError: [E884] The pipeline could not be initialized because the vectors could not be found at 'en_core_web_lg'. If your pipeline was already initialized/trained before, call 'resume_training' instead of 'initialize', or initialize only the components that are new.\n"
          ]
        }
      ]
    },
    {
      "cell_type": "code",
      "source": [
        "nlp_ner = spacy.load(\"/content/model-best\")"
      ],
      "metadata": {
        "id": "Lq7lq9IlcQpM"
      },
      "execution_count": 9,
      "outputs": []
    },
    {
      "cell_type": "code",
      "source": [
        "doc= nlp_ner('''I'm from Kaleab Wondemu Nuri from Ethiopia. Every Saturday @8 pm you can contact me at +251930964236. \n",
        "930964236.\n",
        "I graduated BTech from university of Gondar at Bhubaneswar.\n",
        "''')"
      ],
      "metadata": {
        "id": "LvQiVrTfcvzM"
      },
      "execution_count": 36,
      "outputs": []
    },
    {
      "cell_type": "code",
      "source": [
        "spacy.displacy.render(doc, style=\"ent\", jupyter=True) # display in Jupyter"
      ],
      "metadata": {
        "colab": {
          "base_uri": "https://localhost:8080/",
          "height": 157
        },
        "id": "S0dcmWM0dwY9",
        "outputId": "84781ccb-0aa0-4d3b-9b30-d0ef573fb4bf"
      },
      "execution_count": 37,
      "outputs": [
        {
          "output_type": "display_data",
          "data": {
            "text/plain": [
              "<IPython.core.display.HTML object>"
            ],
            "text/html": [
              "<span class=\"tex2jax_ignore\"><div class=\"entities\" style=\"line-height: 2.5; direction: ltr\">I'm from \n",
              "<mark class=\"entity\" style=\"background: #ddd; padding: 0.45em 0.6em; margin: 0 0.25em; line-height: 1; border-radius: 0.35em;\">\n",
              "    Kaleab Wondemu Nuri\n",
              "    <span style=\"font-size: 0.8em; font-weight: bold; line-height: 1; border-radius: 0.35em; vertical-align: middle; margin-left: 0.5rem\">NAME</span>\n",
              "</mark>\n",
              " from \n",
              "<mark class=\"entity\" style=\"background: #ddd; padding: 0.45em 0.6em; margin: 0 0.25em; line-height: 1; border-radius: 0.35em;\">\n",
              "    Ethiopia.\n",
              "    <span style=\"font-size: 0.8em; font-weight: bold; line-height: 1; border-radius: 0.35em; vertical-align: middle; margin-left: 0.5rem\">LOCATION</span>\n",
              "</mark>\n",
              " Every Saturday @8 pm you can contact me at \n",
              "<mark class=\"entity\" style=\"background: #ddd; padding: 0.45em 0.6em; margin: 0 0.25em; line-height: 1; border-radius: 0.35em;\">\n",
              "    +251930964236.\n",
              "    <span style=\"font-size: 0.8em; font-weight: bold; line-height: 1; border-radius: 0.35em; vertical-align: middle; margin-left: 0.5rem\">PHONE NUMBER</span>\n",
              "</mark>\n",
              " </br>\n",
              "<mark class=\"entity\" style=\"background: #ddd; padding: 0.45em 0.6em; margin: 0 0.25em; line-height: 1; border-radius: 0.35em;\">\n",
              "    930964236\n",
              "    <span style=\"font-size: 0.8em; font-weight: bold; line-height: 1; border-radius: 0.35em; vertical-align: middle; margin-left: 0.5rem\">PHONE NUMBER</span>\n",
              "</mark>\n",
              ".</br>I graduated BTech from university of Gondar at \n",
              "<mark class=\"entity\" style=\"background: #ddd; padding: 0.45em 0.6em; margin: 0 0.25em; line-height: 1; border-radius: 0.35em;\">\n",
              "    Bhubaneswar.\n",
              "    <span style=\"font-size: 0.8em; font-weight: bold; line-height: 1; border-radius: 0.35em; vertical-align: middle; margin-left: 0.5rem\">LOCATION</span>\n",
              "</mark>\n",
              "</br></div></span>"
            ]
          },
          "metadata": {}
        }
      ]
    },
    {
      "cell_type": "code",
      "source": [],
      "metadata": {
        "id": "XXDr_s4Sd9Hd"
      },
      "execution_count": 11,
      "outputs": []
    }
  ]
}